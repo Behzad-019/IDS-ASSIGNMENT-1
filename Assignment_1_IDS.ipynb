{
  "nbformat": 4,
  "nbformat_minor": 0,
  "metadata": {
    "colab": {
      "provenance": [],
      "collapsed_sections": []
    },
    "kernelspec": {
      "name": "python3",
      "display_name": "Python 3"
    },
    "language_info": {
      "name": "python"
    }
  },
  "cells": [
    {
      "cell_type": "code",
      "execution_count": null,
      "metadata": {
        "id": "nIBSIXYhcLao"
      },
      "outputs": [],
      "source": [
        "#Behzad Khadim\n",
        "#SP20-BCS-019\n",
        "#IDS-Assignment-1\n",
        "\n",
        "import pandas as pd\n",
        "import re\n",
        "\n",
        "from google.colab import drive\n",
        "drive.mount('/content/gdrive')\n",
        "\n",
        "data = pd.read_csv('gdrive/My Drive/testData/Hello-DataSet-Updates.csv')\n",
        "data.head"
      ]
    },
    {
      "cell_type": "markdown",
      "source": [
        "Data Normalization"
      ],
      "metadata": {
        "id": "xeVsEVj1WVbA"
      }
    },
    {
      "cell_type": "code",
      "source": [
        "df = pd.DataFrame(data, columns = ['Name', 'Gender','HSSC1','HSSC2','CGPA','FavoriteColor','BirthMonth','Weight'])\n",
        "\n",
        "df['Name'] = df['Name'].str.title()\n",
        "df['Gender'] = df['Gender'].str.title()\n",
        "df['BirthMonth'] = df['BirthMonth'].str.title()\n",
        "df['FavoriteColor'] = df['FavoriteColor'].str.title()\n",
        "df['FavoriteColor'] = df['FavoriteColor'].str.title()\n",
        "\n",
        "UpData = df\n",
        "UpData"
      ],
      "metadata": {
        "id": "hUZ6cerhcWpk"
      },
      "execution_count": null,
      "outputs": []
    },
    {
      "cell_type": "code",
      "source": [
        "from matplotlib import pyplot as plt\n",
        "import numpy as np"
      ],
      "metadata": {
        "id": "HroPjxgocpdo"
      },
      "execution_count": 19,
      "outputs": []
    },
    {
      "cell_type": "markdown",
      "source": [
        "Pie chart to show the ratio of male and female students"
      ],
      "metadata": {
        "id": "Ysq9Gg1Wf6zn"
      }
    },
    {
      "cell_type": "code",
      "source": [
        "def label_function(val):\n",
        "    return f'{val / 100 * len(UpData):.0f}\\n{val:.0f}%'\n",
        "\n",
        "fig, ax1 = plt.subplots(ncols=1, figsize=(10, 6))\n",
        "\n",
        "UpData.groupby('Gender').size().plot(kind='pie',autopct=label_function,textprops={'fontsize': 16},\n",
        "                                  colors=['y', 'r'], title = \"PIE CHART TO SHOW RATIO MALE AND FEMALE STUDENTS\", ax=ax1)\n",
        "\n",
        "plt.show()"
      ],
      "metadata": {
        "id": "UogpQ7XVeeES"
      },
      "execution_count": null,
      "outputs": []
    },
    {
      "cell_type": "markdown",
      "source": [
        "List of Students whose name start with H"
      ],
      "metadata": {
        "id": "lm-WEaoLhzo9"
      }
    },
    {
      "cell_type": "code",
      "source": [
        "search =\"H\"\n",
        "\n",
        "StudentWithH = data[\"Name\"].str.startswith(search, na = False)\n",
        "\n",
        "#with complete information of students with H\n",
        "data[StudentWithH]\n",
        "\n",
        "#just the names of the students with H\n",
        "data[StudentWithH].Name\n"
      ],
      "metadata": {
        "id": "09bZIs6thCu0"
      },
      "execution_count": null,
      "outputs": []
    },
    {
      "cell_type": "markdown",
      "source": [
        "Students having three words name"
      ],
      "metadata": {
        "id": "pHdOSnHYmYDW"
      }
    },
    {
      "cell_type": "code",
      "source": [
        "UpData = pd.DataFrame({\n",
        "    \"Name\": UpData.Name})\n",
        "UpData\n",
        "regularExpression = re.compile(r'^(\\w+)\\s+(.*?)\\s+(\\w+)$')\n",
        "\n",
        "UpData[['first', 'middle', 'surname']] = df['Name'].str.extract(pat=regularExpression, expand=True)\n"
      ],
      "metadata": {
        "id": "o41Rf5Xyh55i"
      },
      "execution_count": null,
      "outputs": []
    },
    {
      "cell_type": "markdown",
      "source": [
        "histogram of all male students CGPA"
      ],
      "metadata": {
        "id": "f4VI7DbTCB4F"
      }
    },
    {
      "cell_type": "code",
      "source": [
        "maleStudents = UpData.CGPA.where(UpData['Gender']>=\"Male\").astype(str)\n",
        "\n",
        "maleStudents.astype(float).hist(bins = [2.0,2.5, 2.6,3.0, 3.1,3.5, 3.6,4.0], figsize=(15,8), alpha =0.6 ,grid=False,rwidth =0.8)\n",
        "plt.show\n"
      ],
      "metadata": {
        "id": "ZEqMa2XP4cYo"
      },
      "execution_count": null,
      "outputs": []
    },
    {
      "cell_type": "markdown",
      "source": [
        "Percentage of students who have cgpa 3.0 or above"
      ],
      "metadata": {
        "id": "H2JJPm0VM9wp"
      }
    },
    {
      "cell_type": "code",
      "source": [
        "students = UpData.CGPA.where(UpData['CGPA']>=3.0).astype(str)\n",
        "newstudents = students.astype(float)\n",
        "\n",
        "newstudents = newstudents.dropna()\n",
        "newstudents.reset_index()\n",
        "newstudents.count() * 100 /UpData.CGPA.count() \n"
      ],
      "metadata": {
        "id": "Me_-1sJ4ksAd"
      },
      "execution_count": null,
      "outputs": []
    },
    {
      "cell_type": "markdown",
      "source": [
        "Scatter plot of HSSC-1 between male vs female students"
      ],
      "metadata": {
        "id": "cROE2-81S2Nr"
      }
    },
    {
      "cell_type": "code",
      "source": [
        "\n",
        "mStudents = UpData.HSSC1.where(UpData['Gender']==\"Male\").astype(str)\n",
        "feStudents = UpData.HSSC1.where(UpData['Gender']==\"Female\").astype(str)\n",
        "\n",
        "malestd = mStudents.astype(float)\n",
        "femalestd = feStudents.astype(float)\n",
        "finalMale = malestd.dropna()\n",
        "finalFemale = femalestd.dropna()\n",
        "\n",
        "finalFemale"
      ],
      "metadata": {
        "id": "i_xue5y8S7mL"
      },
      "execution_count": null,
      "outputs": []
    },
    {
      "cell_type": "code",
      "source": [
        "raw_data = {'malestudent': finalMale, \n",
        "        'femalestudents': finalFemale}\n",
        "\n",
        "dataframe = pd.DataFrame(raw_data, columns=['malestudent','femalestudents'])\n",
        "dataframe"
      ],
      "metadata": {
        "id": "sUiiSzzUVECx"
      },
      "execution_count": null,
      "outputs": []
    },
    {
      "cell_type": "code",
      "source": [
        "\n",
        "dataframe['result'] = np.arange(len(dataframe))**2 * 100 + 100\n",
        "test1 = dataframe.plot(kind='scatter', x='malestudent', y='malestudent', color='r', label='male students')\n",
        "test2 = dataframe.plot(kind='scatter', x='femalestudents', y='femalestudents', color='g', ax=test1, label='female students')\n",
        "\n"
      ],
      "metadata": {
        "colab": {
          "base_uri": "https://localhost:8080/",
          "height": 278
        },
        "id": "f-tF4mkuTWnA",
        "outputId": "e1c5fd8c-3835-4403-abc5-10b46978d494"
      },
      "execution_count": null,
      "outputs": [
        {
          "output_type": "display_data",
          "data": {
            "text/plain": [
              "<Figure size 432x288 with 1 Axes>"
            ],
            "image/png": "[encoded data removed]"
          },
          "metadata": {
            "needs_background": "light"
          }
        }
      ]
    },
    {
      "cell_type": "code",
      "source": [
        "UpData.columns"
      ],
      "metadata": {
        "id": "cheK8KjBDJvv",
        "colab": {
          "base_uri": "https://localhost:8080/"
        },
        "outputId": "f8cb2529-e564-4611-b8a7-b16d83b4b9be"
      },
      "execution_count": 5,
      "outputs": [
        {
          "output_type": "execute_result",
          "data": {
            "text/plain": [
              "Index(['Name', 'Gender', 'HSSC1', 'HSSC2', 'CGPA', 'FavoriteColor',\n",
              "       'BirthMonth', 'Weight'],\n",
              "      dtype='object')"
            ]
          },
          "metadata": {},
          "execution_count": 5
        }
      ]
    },
    {
      "cell_type": "markdown",
      "source": [
        "favorite colors of male vs female students on a bar chart."
      ],
      "metadata": {
        "id": "HjBvXJKSOCkq"
      }
    },
    {
      "cell_type": "code",
      "source": [
        "gender_column = UpData.Gender\n",
        "UpData.groupby([\"FavoriteColor\", gender_column]).size().unstack(level=1).plot(kind='bar',figsize=(15,5))\n",
        "\n"
      ],
      "metadata": {
        "id": "jvhJxuA0MAJN"
      },
      "execution_count": null,
      "outputs": []
    },
    {
      "cell_type": "code",
      "source": [
        "UpData.reset_index"
      ],
      "metadata": {
        "id": "3p_7UKDoWt-k"
      },
      "execution_count": null,
      "outputs": []
    },
    {
      "cell_type": "markdown",
      "source": [
        "Line chart of favourite color of students"
      ],
      "metadata": {
        "id": "Udg7QyshZGYP"
      }
    },
    {
      "cell_type": "code",
      "source": [
        "plt.figure(figsize=(120,30))\n",
        "plt.plot(UpData.loc[:,\"Name\"],UpData.loc[:,\"FavoriteColor\"],color=\"blue\",marker=\"o\")\n",
        "plt.xticks(rotation=25)"
      ],
      "metadata": {
        "id": "usKbTmQsO0Fn"
      },
      "execution_count": null,
      "outputs": []
    },
    {
      "cell_type": "markdown",
      "source": [
        "correlation matrix between HSSC-1 and HSSC-2 marks and then plot on a heatmap."
      ],
      "metadata": {
        "id": "eP7bML80b-Cw"
      }
    },
    {
      "cell_type": "code",
      "source": [
        "dropedData = UpData.drop('CGPA', axis=\"columns\")\n",
        "cor = dropedData.corr()\n",
        "cor\n"
      ],
      "metadata": {
        "id": "pGz22uilZL2x"
      },
      "execution_count": null,
      "outputs": []
    },
    {
      "cell_type": "code",
      "source": [
        "import seaborn as sns\n",
        "plt.figure(figsize=(10,8))\n",
        "sns.heatmap(data = cor , annot = True , cmap=\"rocket\", center=0)"
      ],
      "metadata": {
        "id": "3KVm9qn7auFN"
      },
      "execution_count": null,
      "outputs": []
    },
    {
      "cell_type": "markdown",
      "source": [
        "Bonus: Percentage of students with Weight 60 or above"
      ],
      "metadata": {
        "id": "qiNQBbM4TOJa"
      }
    },
    {
      "cell_type": "code",
      "source": [
        "students = UpData.Weight.where(UpData['Weight']>=60).astype(str)\n",
        "newstudents = students.astype(float)\n",
        "\n",
        "newstudents = newstudents.dropna()\n",
        "newstudents.reset_index()\n",
        "newstudents.count() * 100 /UpData.Weight.count() "
      ],
      "metadata": {
        "colab": {
          "base_uri": "https://localhost:8080/"
        },
        "id": "Lsln9uylUV4M",
        "outputId": "88932675-aec2-4037-9775-acf29b4cd05c"
      },
      "execution_count": 32,
      "outputs": [
        {
          "output_type": "execute_result",
          "data": {
            "text/plain": [
              "70.14925373134328"
            ]
          },
          "metadata": {},
          "execution_count": 32
        }
      ]
    },
    {
      "cell_type": "code",
      "source": [
        "Malestudents = UpData.Weight.where(UpData['Gender']==\"Male\").astype(str)\n",
        "malestudents = Malestudents.astype(float)\n",
        "\n",
        "Femalestudents = UpData.Weight.where(UpData['Gender']==\"Female\").astype(str)\n",
        "femalestudents = Femalestudents.astype(float)\n",
        "\n",
        "\n",
        "malestudents = malestudents.dropna()\n",
        "malestudents.reset_index()\n",
        "\n",
        "femalestudents = femalestudents.dropna()\n",
        "femalestudents.reset_index()\n",
        "\n"
      ],
      "metadata": {
        "id": "KWIN5-VWXPCR"
      },
      "execution_count": null,
      "outputs": []
    },
    {
      "cell_type": "markdown",
      "source": [
        "Bonus : histogram of male studenst weights"
      ],
      "metadata": {
        "id": "gcX0VTVxZeJP"
      }
    },
    {
      "cell_type": "code",
      "source": [
        "\n",
        "malestudents.astype(float).hist(bins = [30,40,50,60,70,90,100,110,120], figsize=(15,8), alpha =0.6 ,grid=False,rwidth =0.8)\n",
        "plt.show"
      ],
      "metadata": {
        "id": "Tdvup1sbYC0k"
      },
      "execution_count": null,
      "outputs": []
    },
    {
      "cell_type": "markdown",
      "source": [
        "Bonus : Female students weight bar chart"
      ],
      "metadata": {
        "id": "UJjrQ03HZGUR"
      }
    },
    {
      "cell_type": "code",
      "source": [
        "UpData.groupby([\"Weight\", femalestudents]).size().unstack(level=1).plot(kind='bar',figsize=(15,5))"
      ],
      "metadata": {
        "id": "x6PhchHMYYg_"
      },
      "execution_count": null,
      "outputs": []
    }
  ]
}